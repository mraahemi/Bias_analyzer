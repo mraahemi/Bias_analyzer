{
 "cells": [
  {
   "cell_type": "code",
   "execution_count": 2,
   "metadata": {},
   "outputs": [],
   "source": [
    "import pandas as pd\n",
    "import numpy as np\n",
    "\n",
    "import fairlearn"
   ]
  },
  {
   "cell_type": "markdown",
   "metadata": {},
   "source": [
    "#### Actually why do we need both files if the contents are the same?"
   ]
  },
  {
   "cell_type": "code",
   "execution_count": 3,
   "metadata": {},
   "outputs": [],
   "source": [
    "df1 = pd.read_csv('../data/2020-02-28T01 00 00-05 00.csv')"
   ]
  },
  {
   "cell_type": "code",
   "execution_count": 5,
   "metadata": {},
   "outputs": [],
   "source": [
    "df2 = pd.read_csv('../data/2020-04-03T01 00 00-05 00.csv')"
   ]
  },
  {
   "cell_type": "markdown",
   "metadata": {},
   "source": [
    "just use one file since we do not want to duplicate data."
   ]
  },
  {
   "cell_type": "code",
   "execution_count": 13,
   "metadata": {},
   "outputs": [],
   "source": [
    "df = df1"
   ]
  },
  {
   "cell_type": "code",
   "execution_count": 17,
   "metadata": {},
   "outputs": [
    {
     "data": {
      "text/html": [
       "<div>\n",
       "<style scoped>\n",
       "    .dataframe tbody tr th:only-of-type {\n",
       "        vertical-align: middle;\n",
       "    }\n",
       "\n",
       "    .dataframe tbody tr th {\n",
       "        vertical-align: top;\n",
       "    }\n",
       "\n",
       "    .dataframe thead th {\n",
       "        text-align: right;\n",
       "    }\n",
       "</style>\n",
       "<table border=\"1\" class=\"dataframe\">\n",
       "  <thead>\n",
       "    <tr style=\"text-align: right;\">\n",
       "      <th></th>\n",
       "      <th>custid</th>\n",
       "      <th>Income</th>\n",
       "      <th>CreditScore</th>\n",
       "      <th>Debt</th>\n",
       "      <th>LoanTerm</th>\n",
       "      <th>InterestRate</th>\n",
       "      <th>CreditIncidents</th>\n",
       "      <th>HomeValue</th>\n",
       "      <th>LoanAmount</th>\n",
       "    </tr>\n",
       "  </thead>\n",
       "  <tbody>\n",
       "    <tr>\n",
       "      <th>count</th>\n",
       "      <td>4.842700e+04</td>\n",
       "      <td>48427.000000</td>\n",
       "      <td>48427.000000</td>\n",
       "      <td>48427.000000</td>\n",
       "      <td>48427.000000</td>\n",
       "      <td>48427.000000</td>\n",
       "      <td>48427.000000</td>\n",
       "      <td>4.842700e+04</td>\n",
       "      <td>4.842700e+04</td>\n",
       "    </tr>\n",
       "    <tr>\n",
       "      <th>mean</th>\n",
       "      <td>5.011043e+07</td>\n",
       "      <td>182892.674665</td>\n",
       "      <td>700.479505</td>\n",
       "      <td>36802.268387</td>\n",
       "      <td>359.902121</td>\n",
       "      <td>0.039988</td>\n",
       "      <td>2.578128</td>\n",
       "      <td>5.289217e+05</td>\n",
       "      <td>2.634072e+05</td>\n",
       "    </tr>\n",
       "    <tr>\n",
       "      <th>std</th>\n",
       "      <td>2.884022e+07</td>\n",
       "      <td>256729.653035</td>\n",
       "      <td>64.881945</td>\n",
       "      <td>60675.888778</td>\n",
       "      <td>112.512956</td>\n",
       "      <td>0.002915</td>\n",
       "      <td>1.844025</td>\n",
       "      <td>3.765134e+05</td>\n",
       "      <td>2.409933e+05</td>\n",
       "    </tr>\n",
       "    <tr>\n",
       "      <th>min</th>\n",
       "      <td>2.684000e+03</td>\n",
       "      <td>10000.000000</td>\n",
       "      <td>620.000000</td>\n",
       "      <td>0.000000</td>\n",
       "      <td>180.000000</td>\n",
       "      <td>0.035000</td>\n",
       "      <td>0.000000</td>\n",
       "      <td>7.290000e+04</td>\n",
       "      <td>8.262000e+03</td>\n",
       "    </tr>\n",
       "    <tr>\n",
       "      <th>25%</th>\n",
       "      <td>2.525330e+07</td>\n",
       "      <td>29018.500000</td>\n",
       "      <td>645.000000</td>\n",
       "      <td>12851.560000</td>\n",
       "      <td>180.000000</td>\n",
       "      <td>0.037000</td>\n",
       "      <td>1.000000</td>\n",
       "      <td>2.776800e+05</td>\n",
       "      <td>1.063520e+05</td>\n",
       "    </tr>\n",
       "    <tr>\n",
       "      <th>50%</th>\n",
       "      <td>5.003374e+07</td>\n",
       "      <td>48407.000000</td>\n",
       "      <td>667.000000</td>\n",
       "      <td>22052.250000</td>\n",
       "      <td>420.000000</td>\n",
       "      <td>0.040000</td>\n",
       "      <td>2.000000</td>\n",
       "      <td>4.161500e+05</td>\n",
       "      <td>1.933200e+05</td>\n",
       "    </tr>\n",
       "    <tr>\n",
       "      <th>75%</th>\n",
       "      <td>7.503263e+07</td>\n",
       "      <td>231794.000000</td>\n",
       "      <td>780.000000</td>\n",
       "      <td>34402.530000</td>\n",
       "      <td>480.000000</td>\n",
       "      <td>0.043000</td>\n",
       "      <td>4.000000</td>\n",
       "      <td>6.460800e+05</td>\n",
       "      <td>3.346500e+05</td>\n",
       "    </tr>\n",
       "    <tr>\n",
       "      <th>max</th>\n",
       "      <td>9.999981e+07</td>\n",
       "      <td>949942.000000</td>\n",
       "      <td>799.000000</td>\n",
       "      <td>924099.820000</td>\n",
       "      <td>480.000000</td>\n",
       "      <td>0.045000</td>\n",
       "      <td>6.000000</td>\n",
       "      <td>3.000003e+06</td>\n",
       "      <td>2.700003e+06</td>\n",
       "    </tr>\n",
       "  </tbody>\n",
       "</table>\n",
       "</div>"
      ],
      "text/plain": [
       "             custid         Income   CreditScore           Debt      LoanTerm  \\\n",
       "count  4.842700e+04   48427.000000  48427.000000   48427.000000  48427.000000   \n",
       "mean   5.011043e+07  182892.674665    700.479505   36802.268387    359.902121   \n",
       "std    2.884022e+07  256729.653035     64.881945   60675.888778    112.512956   \n",
       "min    2.684000e+03   10000.000000    620.000000       0.000000    180.000000   \n",
       "25%    2.525330e+07   29018.500000    645.000000   12851.560000    180.000000   \n",
       "50%    5.003374e+07   48407.000000    667.000000   22052.250000    420.000000   \n",
       "75%    7.503263e+07  231794.000000    780.000000   34402.530000    480.000000   \n",
       "max    9.999981e+07  949942.000000    799.000000  924099.820000    480.000000   \n",
       "\n",
       "       InterestRate  CreditIncidents     HomeValue    LoanAmount  \n",
       "count  48427.000000     48427.000000  4.842700e+04  4.842700e+04  \n",
       "mean       0.039988         2.578128  5.289217e+05  2.634072e+05  \n",
       "std        0.002915         1.844025  3.765134e+05  2.409933e+05  \n",
       "min        0.035000         0.000000  7.290000e+04  8.262000e+03  \n",
       "25%        0.037000         1.000000  2.776800e+05  1.063520e+05  \n",
       "50%        0.040000         2.000000  4.161500e+05  1.933200e+05  \n",
       "75%        0.043000         4.000000  6.460800e+05  3.346500e+05  \n",
       "max        0.045000         6.000000  3.000003e+06  2.700003e+06  "
      ]
     },
     "execution_count": 17,
     "metadata": {},
     "output_type": "execute_result"
    }
   ],
   "source": [
    "df.describe()"
   ]
  },
  {
   "cell_type": "code",
   "execution_count": null,
   "metadata": {},
   "outputs": [],
   "source": []
  }
 ],
 "metadata": {
  "kernelspec": {
   "display_name": "FinastraHackathon",
   "language": "python",
   "name": "finastra_hackathon"
  },
  "language_info": {
   "codemirror_mode": {
    "name": "ipython",
    "version": 3
   },
   "file_extension": ".py",
   "mimetype": "text/x-python",
   "name": "python",
   "nbconvert_exporter": "python",
   "pygments_lexer": "ipython3",
   "version": "3.8.5"
  }
 },
 "nbformat": 4,
 "nbformat_minor": 4
}
